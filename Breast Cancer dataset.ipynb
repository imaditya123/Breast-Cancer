{
 "cells": [
  {
   "cell_type": "code",
   "execution_count": 48,
   "id": "2a4e81b0",
   "metadata": {},
   "outputs": [],
   "source": [
    "import numpy as np\n",
    "import pandas as pd\n",
    "import matplotlib.pyplot as plt"
   ]
  },
  {
   "cell_type": "code",
   "execution_count": 49,
   "id": "f670cb38",
   "metadata": {},
   "outputs": [],
   "source": [
    "from sklearn.datasets import load_breast_cancer\n",
    "\n"
   ]
  },
  {
   "cell_type": "code",
   "execution_count": 50,
   "id": "22333908",
   "metadata": {},
   "outputs": [],
   "source": [
    "Data_c=load_breast_cancer()"
   ]
  },
  {
   "cell_type": "code",
   "execution_count": 51,
   "id": "abe92d52",
   "metadata": {},
   "outputs": [],
   "source": [
    "x=Data_c.data\n",
    "y=Data_c.target"
   ]
  },
  {
   "cell_type": "code",
   "execution_count": 52,
   "id": "564b16b7",
   "metadata": {},
   "outputs": [],
   "source": [
    "from sklearn.model_selection import train_test_split"
   ]
  },
  {
   "cell_type": "code",
   "execution_count": 53,
   "id": "0ee054dc",
   "metadata": {},
   "outputs": [],
   "source": [
    "x_train,x_test,y_train,y_test=train_test_split(x,y,test_size=0.3,train_size=0.7,random_state=88,)"
   ]
  },
  {
   "cell_type": "code",
   "execution_count": 54,
   "id": "152b1381",
   "metadata": {},
   "outputs": [],
   "source": [
    "from sklearn.linear_model import LogisticRegression"
   ]
  },
  {
   "cell_type": "code",
   "execution_count": 68,
   "id": "2d84e1d3",
   "metadata": {},
   "outputs": [],
   "source": [
    "Lr=LogisticRegression(solver='liblinear')"
   ]
  },
  {
   "cell_type": "code",
   "execution_count": 69,
   "id": "6700a0c2",
   "metadata": {},
   "outputs": [
    {
     "data": {
      "text/plain": [
       "LogisticRegression(solver='liblinear')"
      ]
     },
     "execution_count": 69,
     "metadata": {},
     "output_type": "execute_result"
    }
   ],
   "source": [
    "Lr.fit(x_train,y_train)"
   ]
  },
  {
   "cell_type": "code",
   "execution_count": 70,
   "id": "2e268283",
   "metadata": {},
   "outputs": [],
   "source": [
    "predicted_types=Lr.predict(x_test)"
   ]
  },
  {
   "cell_type": "code",
   "execution_count": 74,
   "id": "1ef4ff86",
   "metadata": {},
   "outputs": [],
   "source": [
    "from sklearn.metrics import accuracy_score"
   ]
  },
  {
   "cell_type": "code",
   "execution_count": 75,
   "id": "3ba69d71",
   "metadata": {},
   "outputs": [
    {
     "data": {
      "text/plain": [
       "0.9707602339181286"
      ]
     },
     "execution_count": 75,
     "metadata": {},
     "output_type": "execute_result"
    }
   ],
   "source": [
    "accuracy_score(y_test,predicted_types)"
   ]
  },
  {
   "cell_type": "markdown",
   "id": "ff2e2d86",
   "metadata": {},
   "source": [
    "# Evaluation"
   ]
  },
  {
   "cell_type": "code",
   "execution_count": 93,
   "id": "36efc71f",
   "metadata": {},
   "outputs": [],
   "source": [
    "from sklearn.metrics import confusion_matrix,classification_report,roc_curve"
   ]
  },
  {
   "cell_type": "code",
   "execution_count": 94,
   "id": "b5c9662c",
   "metadata": {},
   "outputs": [],
   "source": [
    "conf_mat=confusion_matrix(y_test,predicted_types)"
   ]
  },
  {
   "cell_type": "code",
   "execution_count": 95,
   "id": "64bf1b5a",
   "metadata": {},
   "outputs": [],
   "source": [
    "clas_res=classification_report(y_test,predicted_types)"
   ]
  },
  {
   "cell_type": "code",
   "execution_count": 96,
   "id": "9d209e85",
   "metadata": {},
   "outputs": [],
   "source": [
    "y_prop=Lr.predict_proba(x_test)\n",
    "y_prop=y_prop[:,1]"
   ]
  },
  {
   "cell_type": "code",
   "execution_count": 101,
   "id": "141de293",
   "metadata": {},
   "outputs": [],
   "source": [
    "FPR,TPR,Thresholds=roc_curve(y_test,y_prop)"
   ]
  },
  {
   "cell_type": "code",
   "execution_count": 103,
   "id": "219d41ad",
   "metadata": {},
   "outputs": [
    {
     "data": {
      "image/png": "[encoded data removed]",
      "text/plain": [
       "<Figure size 432x288 with 1 Axes>"
      ]
     },
     "metadata": {
      "needs_background": "light"
     },
     "output_type": "display_data"
    }
   ],
   "source": [
    "plt.plot(FPR,TPR)\n",
    "plt.xlabel('FPR')\n",
    "plt.ylabel('TPR')\n",
    "plt.show()"
   ]
  },
  {
   "cell_type": "code",
   "execution_count": null,
   "id": "1dcc1ff6",
   "metadata": {},
   "outputs": [],
   "source": []
  }
 ],
 "metadata": {
  "kernelspec": {
   "display_name": "Python 3",
   "language": "python",
   "name": "python3"
  },
  "language_info": {
   "codemirror_mode": {
    "name": "ipython",
    "version": 3
   },
   "file_extension": ".py",
   "mimetype": "text/x-python",
   "name": "python",
   "nbconvert_exporter": "python",
   "pygments_lexer": "ipython3",
   "version": "3.8.10"
  }
 },
 "nbformat": 4,
 "nbformat_minor": 5
}
